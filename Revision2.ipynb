{
 "cells": [
  {
   "cell_type": "code",
   "id": "initial_id",
   "metadata": {
    "collapsed": true,
    "ExecuteTime": {
     "end_time": "2025-01-08T12:36:14.645868Z",
     "start_time": "2025-01-08T12:36:14.644288Z"
    }
   },
   "source": [
    "import seaborn as sns\n",
    "import matplotlib.pyplot as plt\n",
    "import numpy as np\n",
    "import pandas as pd"
   ],
   "outputs": [],
   "execution_count": 1
  },
  {
   "metadata": {},
   "cell_type": "markdown",
   "source": [
    "## DEDICATED TO GRAPHS\n",
    "\n",
    "### Plotting Graph for top 10 values in a column\n",
    "- use nlargest(10)"
   ],
   "id": "a0a1d6bcca90f6ca"
  },
  {
   "metadata": {},
   "cell_type": "code",
   "outputs": [],
   "execution_count": null,
   "source": [
    "v_count = mobiles['warranty'].value_counts()\n",
    "mask = mobiles['warranty'].isin(v_count.nlargest(10).index) #only include rows with top 10 warranties\n",
    "filtered_mobiles = mobiles[mask] #using mask\n",
    "filtered_mobiles.head()\n",
    "\n",
    "#Ploting graph\n",
    "plt.figure(figsize=(30,15))\n",
    "sns.countplot(x='warranty', data=filtered_mobiles)\n",
    "plt.xticks(rotation=60)\n",
    "plt.xlabel('Warranty')\n",
    "plt.ylabel('Count')\n",
    "plt.show()"
   ],
   "id": "990e750b8c36db5f"
  },
  {
   "metadata": {},
   "cell_type": "markdown",
   "source": "",
   "id": "8c06223a746cffb9"
  }
 ],
 "metadata": {
  "kernelspec": {
   "display_name": "Python 3",
   "language": "python",
   "name": "python3"
  },
  "language_info": {
   "codemirror_mode": {
    "name": "ipython",
    "version": 2
   },
   "file_extension": ".py",
   "mimetype": "text/x-python",
   "name": "python",
   "nbconvert_exporter": "python",
   "pygments_lexer": "ipython2",
   "version": "2.7.6"
  }
 },
 "nbformat": 4,
 "nbformat_minor": 5
}
