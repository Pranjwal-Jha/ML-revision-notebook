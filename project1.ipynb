{
 "cells": [
  {
   "cell_type": "code",
   "id": "initial_id",
   "metadata": {
    "collapsed": true,
    "ExecuteTime": {
     "end_time": "2025-01-05T12:19:47.769063Z",
     "start_time": "2025-01-05T12:19:47.761004Z"
    }
   },
   "source": [
    "import numpy as np\n",
    "import pandas as pd\n",
    "import matplotlib.pyplot as plt\n",
    "from twisted.conch.insults.window import horizontalLine\n",
    "\n",
    "data = pd.read_csv('TLC_New_Driver_Application_Status.csv')"
   ],
   "outputs": [],
   "execution_count": 25
  },
  {
   "metadata": {
    "ExecuteTime": {
     "end_time": "2025-01-05T12:19:47.790424Z",
     "start_time": "2025-01-05T12:19:47.784639Z"
    }
   },
   "cell_type": "code",
   "source": "data.head(5)",
   "id": "e3bc88f9be825add",
   "outputs": [
    {
     "data": {
      "text/plain": [
       "    App No Type    App Date      Status FRU Interview Scheduled Drug Test  \\\n",
       "0  6078403  HDR  07/16/2024  Incomplete          Not Applicable    Needed   \n",
       "1  6077989  HDR  07/09/2024  Incomplete          Not Applicable    Needed   \n",
       "2  6074279  HDR  05/09/2024  Incomplete          Not Applicable    Needed   \n",
       "3  5735329  HDR  10/17/2016  Incomplete          Not Applicable  Complete   \n",
       "4  6077157  HDR  06/24/2024  Incomplete          Not Applicable  Complete   \n",
       "\n",
       "  WAV Course Defensive Driving Driver Exam Medical Clearance Form  \\\n",
       "0     Needed            Needed      Needed                 Needed   \n",
       "1     Needed          Complete      Needed                 Needed   \n",
       "2     Needed          Complete      Needed                 Needed   \n",
       "3   Complete          Complete      Needed               Complete   \n",
       "4   Complete          Complete      Needed               Complete   \n",
       "\n",
       "                                Other Requirements            Last Updated  \n",
       "0  Fingerprints needed; Copy of DMV license needed  07/17/2024 05:00:01 AM  \n",
       "1  Fingerprints needed; Copy of DMV license needed  07/17/2024 05:00:01 AM  \n",
       "2  Fingerprints needed; Copy of DMV license needed  07/17/2024 05:00:01 AM  \n",
       "3                       Copy of DMV license needed  07/17/2024 05:00:01 AM  \n",
       "4                                   Not Applicable  07/17/2024 05:00:01 AM  "
      ],
      "text/html": [
       "<div>\n",
       "<style scoped>\n",
       "    .dataframe tbody tr th:only-of-type {\n",
       "        vertical-align: middle;\n",
       "    }\n",
       "\n",
       "    .dataframe tbody tr th {\n",
       "        vertical-align: top;\n",
       "    }\n",
       "\n",
       "    .dataframe thead th {\n",
       "        text-align: right;\n",
       "    }\n",
       "</style>\n",
       "<table border=\"1\" class=\"dataframe\">\n",
       "  <thead>\n",
       "    <tr style=\"text-align: right;\">\n",
       "      <th></th>\n",
       "      <th>App No</th>\n",
       "      <th>Type</th>\n",
       "      <th>App Date</th>\n",
       "      <th>Status</th>\n",
       "      <th>FRU Interview Scheduled</th>\n",
       "      <th>Drug Test</th>\n",
       "      <th>WAV Course</th>\n",
       "      <th>Defensive Driving</th>\n",
       "      <th>Driver Exam</th>\n",
       "      <th>Medical Clearance Form</th>\n",
       "      <th>Other Requirements</th>\n",
       "      <th>Last Updated</th>\n",
       "    </tr>\n",
       "  </thead>\n",
       "  <tbody>\n",
       "    <tr>\n",
       "      <th>0</th>\n",
       "      <td>6078403</td>\n",
       "      <td>HDR</td>\n",
       "      <td>07/16/2024</td>\n",
       "      <td>Incomplete</td>\n",
       "      <td>Not Applicable</td>\n",
       "      <td>Needed</td>\n",
       "      <td>Needed</td>\n",
       "      <td>Needed</td>\n",
       "      <td>Needed</td>\n",
       "      <td>Needed</td>\n",
       "      <td>Fingerprints needed; Copy of DMV license needed</td>\n",
       "      <td>07/17/2024 05:00:01 AM</td>\n",
       "    </tr>\n",
       "    <tr>\n",
       "      <th>1</th>\n",
       "      <td>6077989</td>\n",
       "      <td>HDR</td>\n",
       "      <td>07/09/2024</td>\n",
       "      <td>Incomplete</td>\n",
       "      <td>Not Applicable</td>\n",
       "      <td>Needed</td>\n",
       "      <td>Needed</td>\n",
       "      <td>Complete</td>\n",
       "      <td>Needed</td>\n",
       "      <td>Needed</td>\n",
       "      <td>Fingerprints needed; Copy of DMV license needed</td>\n",
       "      <td>07/17/2024 05:00:01 AM</td>\n",
       "    </tr>\n",
       "    <tr>\n",
       "      <th>2</th>\n",
       "      <td>6074279</td>\n",
       "      <td>HDR</td>\n",
       "      <td>05/09/2024</td>\n",
       "      <td>Incomplete</td>\n",
       "      <td>Not Applicable</td>\n",
       "      <td>Needed</td>\n",
       "      <td>Needed</td>\n",
       "      <td>Complete</td>\n",
       "      <td>Needed</td>\n",
       "      <td>Needed</td>\n",
       "      <td>Fingerprints needed; Copy of DMV license needed</td>\n",
       "      <td>07/17/2024 05:00:01 AM</td>\n",
       "    </tr>\n",
       "    <tr>\n",
       "      <th>3</th>\n",
       "      <td>5735329</td>\n",
       "      <td>HDR</td>\n",
       "      <td>10/17/2016</td>\n",
       "      <td>Incomplete</td>\n",
       "      <td>Not Applicable</td>\n",
       "      <td>Complete</td>\n",
       "      <td>Complete</td>\n",
       "      <td>Complete</td>\n",
       "      <td>Needed</td>\n",
       "      <td>Complete</td>\n",
       "      <td>Copy of DMV license needed</td>\n",
       "      <td>07/17/2024 05:00:01 AM</td>\n",
       "    </tr>\n",
       "    <tr>\n",
       "      <th>4</th>\n",
       "      <td>6077157</td>\n",
       "      <td>HDR</td>\n",
       "      <td>06/24/2024</td>\n",
       "      <td>Incomplete</td>\n",
       "      <td>Not Applicable</td>\n",
       "      <td>Complete</td>\n",
       "      <td>Complete</td>\n",
       "      <td>Complete</td>\n",
       "      <td>Needed</td>\n",
       "      <td>Complete</td>\n",
       "      <td>Not Applicable</td>\n",
       "      <td>07/17/2024 05:00:01 AM</td>\n",
       "    </tr>\n",
       "  </tbody>\n",
       "</table>\n",
       "</div>"
      ]
     },
     "execution_count": 26,
     "metadata": {},
     "output_type": "execute_result"
    }
   ],
   "execution_count": 26
  },
  {
   "metadata": {
    "ExecuteTime": {
     "end_time": "2025-01-05T12:19:47.852840Z",
     "start_time": "2025-01-05T12:19:47.846426Z"
    }
   },
   "cell_type": "code",
   "source": "data[data[\"Type\"]!=\"HDR\"].head(5)",
   "id": "733a36b229498478",
   "outputs": [
    {
     "data": {
      "text/plain": [
       "      App No Type    App Date      Status FRU Interview Scheduled  \\\n",
       "200  6072795  PDR  04/19/2024  Incomplete          Not Applicable   \n",
       "401  6076906  PDR  06/19/2024  Incomplete          Not Applicable   \n",
       "427  6074613  VDR  05/14/2024  Incomplete          Not Applicable   \n",
       "480  6078248  PDR  07/13/2024  Incomplete          Not Applicable   \n",
       "906  6074923  PDR  05/18/2024  Incomplete          Not Applicable   \n",
       "\n",
       "          Drug Test      WAV Course Defensive Driving     Driver Exam  \\\n",
       "200  Not Applicable  Not Applicable            Needed  Not Applicable   \n",
       "401  Not Applicable  Not Applicable          Complete  Not Applicable   \n",
       "427  Not Applicable  Not Applicable            Needed  Not Applicable   \n",
       "480  Not Applicable  Not Applicable            Needed  Not Applicable   \n",
       "906  Not Applicable  Not Applicable            Needed  Not Applicable   \n",
       "\n",
       "    Medical Clearance Form          Other Requirements            Last Updated  \n",
       "200         Not Applicable  Copy of DMV license needed  07/17/2024 05:00:01 AM  \n",
       "401         Not Applicable         Fingerprints needed  07/17/2024 05:00:01 AM  \n",
       "427         Not Applicable  Copy of DMV license needed  07/17/2024 05:00:01 AM  \n",
       "480         Not Applicable         Fingerprints needed  07/17/2024 05:00:01 AM  \n",
       "906         Not Applicable         Fingerprints needed  07/17/2024 05:00:01 AM  "
      ],
      "text/html": [
       "<div>\n",
       "<style scoped>\n",
       "    .dataframe tbody tr th:only-of-type {\n",
       "        vertical-align: middle;\n",
       "    }\n",
       "\n",
       "    .dataframe tbody tr th {\n",
       "        vertical-align: top;\n",
       "    }\n",
       "\n",
       "    .dataframe thead th {\n",
       "        text-align: right;\n",
       "    }\n",
       "</style>\n",
       "<table border=\"1\" class=\"dataframe\">\n",
       "  <thead>\n",
       "    <tr style=\"text-align: right;\">\n",
       "      <th></th>\n",
       "      <th>App No</th>\n",
       "      <th>Type</th>\n",
       "      <th>App Date</th>\n",
       "      <th>Status</th>\n",
       "      <th>FRU Interview Scheduled</th>\n",
       "      <th>Drug Test</th>\n",
       "      <th>WAV Course</th>\n",
       "      <th>Defensive Driving</th>\n",
       "      <th>Driver Exam</th>\n",
       "      <th>Medical Clearance Form</th>\n",
       "      <th>Other Requirements</th>\n",
       "      <th>Last Updated</th>\n",
       "    </tr>\n",
       "  </thead>\n",
       "  <tbody>\n",
       "    <tr>\n",
       "      <th>200</th>\n",
       "      <td>6072795</td>\n",
       "      <td>PDR</td>\n",
       "      <td>04/19/2024</td>\n",
       "      <td>Incomplete</td>\n",
       "      <td>Not Applicable</td>\n",
       "      <td>Not Applicable</td>\n",
       "      <td>Not Applicable</td>\n",
       "      <td>Needed</td>\n",
       "      <td>Not Applicable</td>\n",
       "      <td>Not Applicable</td>\n",
       "      <td>Copy of DMV license needed</td>\n",
       "      <td>07/17/2024 05:00:01 AM</td>\n",
       "    </tr>\n",
       "    <tr>\n",
       "      <th>401</th>\n",
       "      <td>6076906</td>\n",
       "      <td>PDR</td>\n",
       "      <td>06/19/2024</td>\n",
       "      <td>Incomplete</td>\n",
       "      <td>Not Applicable</td>\n",
       "      <td>Not Applicable</td>\n",
       "      <td>Not Applicable</td>\n",
       "      <td>Complete</td>\n",
       "      <td>Not Applicable</td>\n",
       "      <td>Not Applicable</td>\n",
       "      <td>Fingerprints needed</td>\n",
       "      <td>07/17/2024 05:00:01 AM</td>\n",
       "    </tr>\n",
       "    <tr>\n",
       "      <th>427</th>\n",
       "      <td>6074613</td>\n",
       "      <td>VDR</td>\n",
       "      <td>05/14/2024</td>\n",
       "      <td>Incomplete</td>\n",
       "      <td>Not Applicable</td>\n",
       "      <td>Not Applicable</td>\n",
       "      <td>Not Applicable</td>\n",
       "      <td>Needed</td>\n",
       "      <td>Not Applicable</td>\n",
       "      <td>Not Applicable</td>\n",
       "      <td>Copy of DMV license needed</td>\n",
       "      <td>07/17/2024 05:00:01 AM</td>\n",
       "    </tr>\n",
       "    <tr>\n",
       "      <th>480</th>\n",
       "      <td>6078248</td>\n",
       "      <td>PDR</td>\n",
       "      <td>07/13/2024</td>\n",
       "      <td>Incomplete</td>\n",
       "      <td>Not Applicable</td>\n",
       "      <td>Not Applicable</td>\n",
       "      <td>Not Applicable</td>\n",
       "      <td>Needed</td>\n",
       "      <td>Not Applicable</td>\n",
       "      <td>Not Applicable</td>\n",
       "      <td>Fingerprints needed</td>\n",
       "      <td>07/17/2024 05:00:01 AM</td>\n",
       "    </tr>\n",
       "    <tr>\n",
       "      <th>906</th>\n",
       "      <td>6074923</td>\n",
       "      <td>PDR</td>\n",
       "      <td>05/18/2024</td>\n",
       "      <td>Incomplete</td>\n",
       "      <td>Not Applicable</td>\n",
       "      <td>Not Applicable</td>\n",
       "      <td>Not Applicable</td>\n",
       "      <td>Needed</td>\n",
       "      <td>Not Applicable</td>\n",
       "      <td>Not Applicable</td>\n",
       "      <td>Fingerprints needed</td>\n",
       "      <td>07/17/2024 05:00:01 AM</td>\n",
       "    </tr>\n",
       "  </tbody>\n",
       "</table>\n",
       "</div>"
      ]
     },
     "execution_count": 27,
     "metadata": {},
     "output_type": "execute_result"
    }
   ],
   "execution_count": 27
  },
  {
   "metadata": {
    "ExecuteTime": {
     "end_time": "2025-01-05T12:19:47.912872Z",
     "start_time": "2025-01-05T12:19:47.910227Z"
    }
   },
   "cell_type": "code",
   "source": "data[\"App No\"].drop_duplicates(inplace=True)\n",
   "id": "1a856e15c01d5f92",
   "outputs": [],
   "execution_count": 28
  },
  {
   "metadata": {
    "ExecuteTime": {
     "end_time": "2025-01-05T12:26:00.534230Z",
     "start_time": "2025-01-05T12:26:00.425182Z"
    }
   },
   "cell_type": "code",
   "source": [
    "import seaborn as sns\n",
    "plt.figure(figsize=(10, 6))\n",
    "sns.countplot(x=\"Status\", data=data, palette=\"viridis\")\n",
    "plt.xlabel('Status')\n",
    "plt.ylabel('Count')\n",
    "plt.title('Counts of Application Status')\n",
    "plt.xticks(rotation=45)  # Rotate x-axis labels if needed\n",
    "plt.show()"
   ],
   "id": "cf8d8d16af62a7a0",
   "outputs": [
    {
     "name": "stderr",
     "output_type": "stream",
     "text": [
      "/tmp/ipykernel_50995/2544296374.py:3: FutureWarning: \n",
      "\n",
      "Passing `palette` without assigning `hue` is deprecated and will be removed in v0.14.0. Assign the `x` variable to `hue` and set `legend=False` for the same effect.\n",
      "\n",
      "  sns.countplot(x=\"Status\", data=data, palette=\"viridis\")\n"
     ]
    },
    {
     "data": {
      "text/plain": [
       "<Figure size 1000x600 with 1 Axes>"
      ],
      "image/png": "[encoded data removed]"
     },
     "metadata": {},
     "output_type": "display_data"
    }
   ],
   "execution_count": 37
  },
  {
   "metadata": {
    "ExecuteTime": {
     "end_time": "2025-01-05T12:19:54.834673Z",
     "start_time": "2025-01-05T12:19:54.830648Z"
    }
   },
   "cell_type": "code",
   "source": "data[\"Status\"].value_counts()",
   "id": "53196f537bd79e95",
   "outputs": [
    {
     "data": {
      "text/plain": [
       "Status\n",
       "Incomplete                   2727\n",
       "Approved - License Issued     526\n",
       "Denied                        167\n",
       "Under Review                   54\n",
       "Pending Fitness Interview      22\n",
       "Name: count, dtype: int64"
      ]
     },
     "execution_count": 30,
     "metadata": {},
     "output_type": "execute_result"
    }
   ],
   "execution_count": 30
  },
  {
   "metadata": {
    "ExecuteTime": {
     "end_time": "2025-01-05T12:30:55.375977Z",
     "start_time": "2025-01-05T12:30:55.368443Z"
    }
   },
   "cell_type": "code",
   "source": [
    "data[\"App Date\"] = pd.to_datetime(data[\"App Date\"])\n",
    "data[\"Last Updated\"] = pd.to_datetime(data[\"Last Updated\"])"
   ],
   "id": "3d552da297ebfd7a",
   "outputs": [],
   "execution_count": 40
  },
  {
   "metadata": {
    "ExecuteTime": {
     "end_time": "2025-01-05T12:32:58.640474Z",
     "start_time": "2025-01-05T12:32:58.637605Z"
    }
   },
   "cell_type": "code",
   "source": "data[\"Time passed\"] = (data[\"Last Updated\"] - data[\"App Date\"]).dt.days",
   "id": "5109155f84abb75d",
   "outputs": [],
   "execution_count": 46
  },
  {
   "metadata": {
    "ExecuteTime": {
     "end_time": "2025-01-05T12:33:39.713460Z",
     "start_time": "2025-01-05T12:33:39.710255Z"
    }
   },
   "cell_type": "code",
   "source": [
    "mean_processing_time = data.groupby(\"Status\")[\"Time passed\"].mean()\n",
    "print(mean_processing_time)"
   ],
   "id": "63bbc8c5f1c730a7",
   "outputs": [
    {
     "name": "stdout",
     "output_type": "stream",
     "text": [
      "Status\n",
      "Approved - License Issued     52.771863\n",
      "Denied                       104.814371\n",
      "Incomplete                    58.850385\n",
      "Pending Fitness Interview    108.954545\n",
      "Under Review                  51.648148\n",
      "Name: Time passed, dtype: float64\n"
     ]
    }
   ],
   "execution_count": 50
  },
  {
   "metadata": {
    "ExecuteTime": {
     "end_time": "2025-01-05T12:44:39.666117Z",
     "start_time": "2025-01-05T12:44:39.568487Z"
    }
   },
   "cell_type": "code",
   "source": [
    "plt.figure(figsize=(5,5))\n",
    "sns.boxplot(x=data[\"Time passed\"],y=data[\"Status\"],color=\"skyblue\")\n",
    "plt.title(\"Handling outliers\")\n",
    "plt.xlabel(\"Days passed\")\n",
    "plt.show()"
   ],
   "id": "45945fb6478ce665",
   "outputs": [
    {
     "data": {
      "text/plain": [
       "<Figure size 500x500 with 1 Axes>"
      ],
      "image/png": "[encoded data removed]"
     },
     "metadata": {},
     "output_type": "display_data"
    }
   ],
   "execution_count": 62
  },
  {
   "metadata": {
    "ExecuteTime": {
     "end_time": "2025-01-05T12:52:35.470263Z",
     "start_time": "2025-01-05T12:52:35.465679Z"
    }
   },
   "cell_type": "code",
   "source": [
    "std = data.groupby(\"Status\")[\"Time passed\"].std()\n",
    "mean = data.groupby(\"Status\")[\"Time passed\"].mean()\n",
    "print(\"The std is \", std,'\\n', \"The mean is \", mean)"
   ],
   "id": "70e8ac2299502ccc",
   "outputs": [
    {
     "name": "stdout",
     "output_type": "stream",
     "text": [
      "The std is  Status\n",
      "Approved - License Issued     24.266246\n",
      "Denied                         9.541679\n",
      "Incomplete                   363.039448\n",
      "Pending Fitness Interview     34.183646\n",
      "Under Review                  27.704749\n",
      "Name: Time passed, dtype: float64 \n",
      " The mean is  Status\n",
      "Approved - License Issued     52.771863\n",
      "Denied                       104.814371\n",
      "Incomplete                    58.850385\n",
      "Pending Fitness Interview    108.954545\n",
      "Under Review                  51.648148\n",
      "Name: Time passed, dtype: float64\n"
     ]
    }
   ],
   "execution_count": 70
  },
  {
   "metadata": {
    "ExecuteTime": {
     "end_time": "2025-01-05T13:18:45.640453Z",
     "start_time": "2025-01-05T13:18:45.638336Z"
    }
   },
   "cell_type": "code",
   "source": "gby = data.groupby(\"Status\")",
   "id": "738cf6c376a12d51",
   "outputs": [],
   "execution_count": 99
  },
  {
   "metadata": {
    "ExecuteTime": {
     "end_time": "2025-01-05T13:13:45.667426Z",
     "start_time": "2025-01-05T13:13:45.654653Z"
    }
   },
   "cell_type": "code",
   "source": [
    "def cap_outliers(group):\n",
    "    mean = group[\"Time passed\"].mean()\n",
    "    std = group[\"Time passed\"].std()\n",
    "    lower = mean-3*std\n",
    "    upper = mean+3*std\n",
    "    group[\"Time passed\"] = np.where(group[\"Time passed\"] > upper, upper,np.where(group[\"Time passed\"]<lower,lower,group[\"Time passed\"]))\n",
    "    return group\n",
    "\n",
    "transformed = gby.apply(cap_outliers)\n",
    "transformed.head()"
   ],
   "id": "f32f25155dcc9823",
   "outputs": [
    {
     "name": "stderr",
     "output_type": "stream",
     "text": [
      "/tmp/ipykernel_50995/3266712284.py:9: DeprecationWarning: DataFrameGroupBy.apply operated on the grouping columns. This behavior is deprecated, and in a future version of pandas the grouping columns will be excluded from the operation. Either pass `include_groups=False` to exclude the groupings or explicitly select the grouping columns after groupby to silence this warning.\n",
      "  transformed = gby.apply(cap_outliers)\n"
     ]
    },
    {
     "data": {
      "text/plain": [
       "                               App No Type   App Date  \\\n",
       "Status                                                  \n",
       "Approved - License Issued 8   6075486  HDR 2024-05-27   \n",
       "                          12  6077495  HDR 2024-06-29   \n",
       "                          19  6073939  HDR 2024-05-04   \n",
       "                          28  6076182  HDR 2024-06-06   \n",
       "                          32  6076639  HDR 2024-06-14   \n",
       "\n",
       "                                                 Status  \\\n",
       "Status                                                    \n",
       "Approved - License Issued 8   Approved - License Issued   \n",
       "                          12  Approved - License Issued   \n",
       "                          19  Approved - License Issued   \n",
       "                          28  Approved - License Issued   \n",
       "                          32  Approved - License Issued   \n",
       "\n",
       "                             FRU Interview Scheduled Drug Test WAV Course  \\\n",
       "Status                                                                      \n",
       "Approved - License Issued 8           Not Applicable  Complete   Complete   \n",
       "                          12          Not Applicable  Complete   Complete   \n",
       "                          19          Not Applicable  Complete   Complete   \n",
       "                          28          Not Applicable  Complete   Complete   \n",
       "                          32          Not Applicable  Complete   Complete   \n",
       "\n",
       "                             Defensive Driving Driver Exam  \\\n",
       "Status                                                       \n",
       "Approved - License Issued 8           Complete    Complete   \n",
       "                          12          Complete    Complete   \n",
       "                          19          Complete    Complete   \n",
       "                          28          Complete    Complete   \n",
       "                          32          Complete    Complete   \n",
       "\n",
       "                             Medical Clearance Form Other Requirements  \\\n",
       "Status                                                                   \n",
       "Approved - License Issued 8                Complete     Not Applicable   \n",
       "                          12               Complete     Not Applicable   \n",
       "                          19               Complete     Not Applicable   \n",
       "                          28               Complete     Not Applicable   \n",
       "                          32               Complete     Not Applicable   \n",
       "\n",
       "                                    Last Updated  Time passed  \n",
       "Status                                                         \n",
       "Approved - License Issued 8  2024-07-17 05:00:01         51.0  \n",
       "                          12 2024-07-17 05:00:01         18.0  \n",
       "                          19 2024-07-17 05:00:01         74.0  \n",
       "                          28 2024-07-17 05:00:01         41.0  \n",
       "                          32 2024-07-17 05:00:01         33.0  "
      ],
      "text/html": [
       "<div>\n",
       "<style scoped>\n",
       "    .dataframe tbody tr th:only-of-type {\n",
       "        vertical-align: middle;\n",
       "    }\n",
       "\n",
       "    .dataframe tbody tr th {\n",
       "        vertical-align: top;\n",
       "    }\n",
       "\n",
       "    .dataframe thead th {\n",
       "        text-align: right;\n",
       "    }\n",
       "</style>\n",
       "<table border=\"1\" class=\"dataframe\">\n",
       "  <thead>\n",
       "    <tr style=\"text-align: right;\">\n",
       "      <th></th>\n",
       "      <th></th>\n",
       "      <th>App No</th>\n",
       "      <th>Type</th>\n",
       "      <th>App Date</th>\n",
       "      <th>Status</th>\n",
       "      <th>FRU Interview Scheduled</th>\n",
       "      <th>Drug Test</th>\n",
       "      <th>WAV Course</th>\n",
       "      <th>Defensive Driving</th>\n",
       "      <th>Driver Exam</th>\n",
       "      <th>Medical Clearance Form</th>\n",
       "      <th>Other Requirements</th>\n",
       "      <th>Last Updated</th>\n",
       "      <th>Time passed</th>\n",
       "    </tr>\n",
       "    <tr>\n",
       "      <th>Status</th>\n",
       "      <th></th>\n",
       "      <th></th>\n",
       "      <th></th>\n",
       "      <th></th>\n",
       "      <th></th>\n",
       "      <th></th>\n",
       "      <th></th>\n",
       "      <th></th>\n",
       "      <th></th>\n",
       "      <th></th>\n",
       "      <th></th>\n",
       "      <th></th>\n",
       "      <th></th>\n",
       "      <th></th>\n",
       "    </tr>\n",
       "  </thead>\n",
       "  <tbody>\n",
       "    <tr>\n",
       "      <th rowspan=\"5\" valign=\"top\">Approved - License Issued</th>\n",
       "      <th>8</th>\n",
       "      <td>6075486</td>\n",
       "      <td>HDR</td>\n",
       "      <td>2024-05-27</td>\n",
       "      <td>Approved - License Issued</td>\n",
       "      <td>Not Applicable</td>\n",
       "      <td>Complete</td>\n",
       "      <td>Complete</td>\n",
       "      <td>Complete</td>\n",
       "      <td>Complete</td>\n",
       "      <td>Complete</td>\n",
       "      <td>Not Applicable</td>\n",
       "      <td>2024-07-17 05:00:01</td>\n",
       "      <td>51.0</td>\n",
       "    </tr>\n",
       "    <tr>\n",
       "      <th>12</th>\n",
       "      <td>6077495</td>\n",
       "      <td>HDR</td>\n",
       "      <td>2024-06-29</td>\n",
       "      <td>Approved - License Issued</td>\n",
       "      <td>Not Applicable</td>\n",
       "      <td>Complete</td>\n",
       "      <td>Complete</td>\n",
       "      <td>Complete</td>\n",
       "      <td>Complete</td>\n",
       "      <td>Complete</td>\n",
       "      <td>Not Applicable</td>\n",
       "      <td>2024-07-17 05:00:01</td>\n",
       "      <td>18.0</td>\n",
       "    </tr>\n",
       "    <tr>\n",
       "      <th>19</th>\n",
       "      <td>6073939</td>\n",
       "      <td>HDR</td>\n",
       "      <td>2024-05-04</td>\n",
       "      <td>Approved - License Issued</td>\n",
       "      <td>Not Applicable</td>\n",
       "      <td>Complete</td>\n",
       "      <td>Complete</td>\n",
       "      <td>Complete</td>\n",
       "      <td>Complete</td>\n",
       "      <td>Complete</td>\n",
       "      <td>Not Applicable</td>\n",
       "      <td>2024-07-17 05:00:01</td>\n",
       "      <td>74.0</td>\n",
       "    </tr>\n",
       "    <tr>\n",
       "      <th>28</th>\n",
       "      <td>6076182</td>\n",
       "      <td>HDR</td>\n",
       "      <td>2024-06-06</td>\n",
       "      <td>Approved - License Issued</td>\n",
       "      <td>Not Applicable</td>\n",
       "      <td>Complete</td>\n",
       "      <td>Complete</td>\n",
       "      <td>Complete</td>\n",
       "      <td>Complete</td>\n",
       "      <td>Complete</td>\n",
       "      <td>Not Applicable</td>\n",
       "      <td>2024-07-17 05:00:01</td>\n",
       "      <td>41.0</td>\n",
       "    </tr>\n",
       "    <tr>\n",
       "      <th>32</th>\n",
       "      <td>6076639</td>\n",
       "      <td>HDR</td>\n",
       "      <td>2024-06-14</td>\n",
       "      <td>Approved - License Issued</td>\n",
       "      <td>Not Applicable</td>\n",
       "      <td>Complete</td>\n",
       "      <td>Complete</td>\n",
       "      <td>Complete</td>\n",
       "      <td>Complete</td>\n",
       "      <td>Complete</td>\n",
       "      <td>Not Applicable</td>\n",
       "      <td>2024-07-17 05:00:01</td>\n",
       "      <td>33.0</td>\n",
       "    </tr>\n",
       "  </tbody>\n",
       "</table>\n",
       "</div>"
      ]
     },
     "execution_count": 97,
     "metadata": {},
     "output_type": "execute_result"
    }
   ],
   "execution_count": 97
  },
  {
   "metadata": {
    "ExecuteTime": {
     "end_time": "2025-01-05T13:14:20.979737Z",
     "start_time": "2025-01-05T13:14:20.845600Z"
    }
   },
   "cell_type": "code",
   "source": [
    "plt.figure(figsize=(10,6))\n",
    "sns.boxplot(x=transformed[\"Time passed\"],y=transformed[\"Status\"],color=\"skyblue\")"
   ],
   "id": "c7f444f929478ce1",
   "outputs": [
    {
     "data": {
      "text/plain": [
       "<Axes: xlabel='Time passed', ylabel='Status'>"
      ]
     },
     "execution_count": 98,
     "metadata": {},
     "output_type": "execute_result"
    },
    {
     "data": {
      "text/plain": [
       "<Figure size 1000x600 with 1 Axes>"
      ],
      "image/png": "[encoded data removed]"
     },
     "metadata": {},
     "output_type": "display_data"
    }
   ],
   "execution_count": 98
  },
  {
   "metadata": {
    "ExecuteTime": {
     "end_time": "2025-01-05T13:19:59.590685Z",
     "start_time": "2025-01-05T13:19:59.581978Z"
    }
   },
   "cell_type": "code",
   "source": [
    "def cap_outliers_iqr(group):\n",
    "    q1 = group[\"Time passed\"].quantile(0.25)\n",
    "    q3 = group[\"Time passed\"].quantile(0.75)\n",
    "    iqr = q3 - q1\n",
    "    lower = q1 - 1.5 * iqr\n",
    "    upper = q3 + 1.5 * iqr\n",
    "    group[\"Time passed\"] = np.where(group[\"Time passed\"] > upper, upper,\n",
    "                                    np.where(group[\"Time passed\"] < lower, lower, group[\"Time passed\"]))\n",
    "    return group\n",
    "\n",
    "transformed= gby.apply(cap_outliers_iqr)\n"
   ],
   "id": "99bfb7feb8df9e2e",
   "outputs": [
    {
     "name": "stderr",
     "output_type": "stream",
     "text": [
      "/tmp/ipykernel_50995/3919263891.py:11: DeprecationWarning: DataFrameGroupBy.apply operated on the grouping columns. This behavior is deprecated, and in a future version of pandas the grouping columns will be excluded from the operation. Either pass `include_groups=False` to exclude the groupings or explicitly select the grouping columns after groupby to silence this warning.\n",
      "  transformed= gby.apply(cap_outliers_iqr)\n"
     ]
    }
   ],
   "execution_count": 103
  },
  {
   "metadata": {
    "ExecuteTime": {
     "end_time": "2025-01-05T13:20:01.900500Z",
     "start_time": "2025-01-05T13:20:01.759021Z"
    }
   },
   "cell_type": "code",
   "source": [
    "plt.figure(figsize=(10,6))\n",
    "sns.boxplot(x=transformed[\"Time passed\"],y=transformed[\"Status\"],color=\"skyblue\")"
   ],
   "id": "74cbc9fec62141dc",
   "outputs": [
    {
     "data": {
      "text/plain": [
       "<Axes: xlabel='Time passed', ylabel='Status'>"
      ]
     },
     "execution_count": 104,
     "metadata": {},
     "output_type": "execute_result"
    },
    {
     "data": {
      "text/plain": [
       "<Figure size 1000x600 with 1 Axes>"
      ],
      "image/png": "[encoded data removed]"
     },
     "metadata": {},
     "output_type": "display_data"
    }
   ],
   "execution_count": 104
  },
  {
   "metadata": {},
   "cell_type": "code",
   "outputs": [],
   "execution_count": null,
   "source": "",
   "id": "deb07b19702826bb"
  }
 ],
 "metadata": {
  "kernelspec": {
   "display_name": "Python 3",
   "language": "python",
   "name": "python3"
  },
  "language_info": {
   "codemirror_mode": {
    "name": "ipython",
    "version": 2
   },
   "file_extension": ".py",
   "mimetype": "text/x-python",
   "name": "python",
   "nbconvert_exporter": "python",
   "pygments_lexer": "ipython2",
   "version": "2.7.6"
  }
 },
 "nbformat": 4,
 "nbformat_minor": 5
}
